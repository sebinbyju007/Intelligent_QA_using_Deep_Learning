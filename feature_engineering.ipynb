{
  "nbformat": 4,
  "nbformat_minor": 0,
  "metadata": {
    "colab": {
      "name": "feature_engineering",
      "provenance": []
    },
    "kernelspec": {
      "name": "python3",
      "display_name": "Python 3"
    },
    "language_info": {
      "name": "python"
    },
    "accelerator": "GPU"
  },
  "cells": [
    {
      "cell_type": "code",
      "metadata": {
        "colab": {
          "base_uri": "https://localhost:8080/"
        },
        "id": "iuyz38Dn5Ump",
        "outputId": "6b0c013e-6ddc-40cf-d154-b9e89d568d27"
      },
      "source": [
        "!pip install distance\n",
        "!pip install fuzzywuzzy"
      ],
      "execution_count": 2,
      "outputs": [
        {
          "output_type": "stream",
          "text": [
            "Collecting distance\n",
            "\u001b[?25l  Downloading https://files.pythonhosted.org/packages/5c/1a/883e47df323437aefa0d0a92ccfb38895d9416bd0b56262c2e46a47767b8/Distance-0.1.3.tar.gz (180kB)\n",
            "\r\u001b[K     |█▉                              | 10kB 22.0MB/s eta 0:00:01\r\u001b[K     |███▋                            | 20kB 28.8MB/s eta 0:00:01\r\u001b[K     |█████▌                          | 30kB 33.3MB/s eta 0:00:01\r\u001b[K     |███████▎                        | 40kB 30.2MB/s eta 0:00:01\r\u001b[K     |█████████                       | 51kB 31.2MB/s eta 0:00:01\r\u001b[K     |███████████                     | 61kB 33.7MB/s eta 0:00:01\r\u001b[K     |████████████▊                   | 71kB 26.8MB/s eta 0:00:01\r\u001b[K     |██████████████▌                 | 81kB 27.8MB/s eta 0:00:01\r\u001b[K     |████████████████▍               | 92kB 29.3MB/s eta 0:00:01\r\u001b[K     |██████████████████▏             | 102kB 30.5MB/s eta 0:00:01\r\u001b[K     |████████████████████            | 112kB 30.5MB/s eta 0:00:01\r\u001b[K     |█████████████████████▉          | 122kB 30.5MB/s eta 0:00:01\r\u001b[K     |███████████████████████▋        | 133kB 30.5MB/s eta 0:00:01\r\u001b[K     |█████████████████████████▌      | 143kB 30.5MB/s eta 0:00:01\r\u001b[K     |███████████████████████████▎    | 153kB 30.5MB/s eta 0:00:01\r\u001b[K     |█████████████████████████████   | 163kB 30.5MB/s eta 0:00:01\r\u001b[K     |███████████████████████████████ | 174kB 30.5MB/s eta 0:00:01\r\u001b[K     |████████████████████████████████| 184kB 30.5MB/s \n",
            "\u001b[?25hBuilding wheels for collected packages: distance\n",
            "  Building wheel for distance (setup.py) ... \u001b[?25l\u001b[?25hdone\n",
            "  Created wheel for distance: filename=Distance-0.1.3-cp37-none-any.whl size=16261 sha256=9304ce08f47b07d9d0f89967976b0720a96b6e4ac550db795f9e48cd1822203a\n",
            "  Stored in directory: /root/.cache/pip/wheels/d5/aa/e1/dbba9e7b6d397d645d0f12db1c66dbae9c5442b39b001db18e\n",
            "Successfully built distance\n",
            "Installing collected packages: distance\n",
            "Successfully installed distance-0.1.3\n",
            "Collecting fuzzywuzzy\n",
            "  Downloading https://files.pythonhosted.org/packages/43/ff/74f23998ad2f93b945c0309f825be92e04e0348e062026998b5eefef4c33/fuzzywuzzy-0.18.0-py2.py3-none-any.whl\n",
            "Installing collected packages: fuzzywuzzy\n",
            "Successfully installed fuzzywuzzy-0.18.0\n"
          ],
          "name": "stdout"
        }
      ]
    },
    {
      "cell_type": "code",
      "metadata": {
        "colab": {
          "base_uri": "https://localhost:8080/",
          "height": 17
        },
        "id": "mbiKGqyr3fLU",
        "outputId": "d3fe7506-d364-49f2-8aeb-a81e38102c5a"
      },
      "source": [
        "import numpy as np\n",
        "import pandas as pd\n",
        "import seaborn as sns\n",
        "import distance\n",
        "import matplotlib.pyplot as plt\n",
        "from subprocess import check_output\n",
        "%matplotlib inline\n",
        "import plotly.offline as py\n",
        "py.init_notebook_mode(connected=True)\n",
        "import plotly.graph_objs as go\n",
        "import plotly.tools as tls\n",
        "import os\n",
        "import gc\n",
        "\n",
        "import re\n",
        "from nltk.corpus import stopwords\n",
        "import distance\n",
        "from nltk.stem import PorterStemmer\n",
        "from bs4 import BeautifulSoup\n",
        "\n",
        "import warnings\n",
        "warnings.filterwarnings(\"ignore\")\n",
        "import distance\n",
        "from nltk.stem import PorterStemmer\n",
        "from bs4 import BeautifulSoup\n",
        "from fuzzywuzzy import fuzz\n",
        "from sklearn.manifold import TSNE\n",
        "from wordcloud import WordCloud, STOPWORDS\n",
        "from os import path\n",
        "from PIL import Image"
      ],
      "execution_count": 43,
      "outputs": [
        {
          "output_type": "display_data",
          "data": {
            "text/html": [
              "        <script type=\"text/javascript\">\n",
              "        window.PlotlyConfig = {MathJaxConfig: 'local'};\n",
              "        if (window.MathJax) {MathJax.Hub.Config({SVG: {font: \"STIX-Web\"}});}\n",
              "        if (typeof require !== 'undefined') {\n",
              "        require.undef(\"plotly\");\n",
              "        requirejs.config({\n",
              "            paths: {\n",
              "                'plotly': ['https://cdn.plot.ly/plotly-latest.min']\n",
              "            }\n",
              "        });\n",
              "        require(['plotly'], function(Plotly) {\n",
              "            window._Plotly = Plotly;\n",
              "        });\n",
              "        }\n",
              "        </script>\n",
              "        "
            ]
          },
          "metadata": {
            "tags": []
          }
        }
      ]
    },
    {
      "cell_type": "code",
      "metadata": {
        "colab": {
          "base_uri": "https://localhost:8080/",
          "height": 284
        },
        "id": "9ebQzpmn5eHc",
        "outputId": "344e26d9-c42c-4b4d-a306-4f7b1b3df8b3"
      },
      "source": [
        "df = pd.read_csv('/content/drive/MyDrive/Project/train.csv.zip')\n",
        "df.head(8)"
      ],
      "execution_count": 44,
      "outputs": [
        {
          "output_type": "execute_result",
          "data": {
            "text/html": [
              "<div>\n",
              "<style scoped>\n",
              "    .dataframe tbody tr th:only-of-type {\n",
              "        vertical-align: middle;\n",
              "    }\n",
              "\n",
              "    .dataframe tbody tr th {\n",
              "        vertical-align: top;\n",
              "    }\n",
              "\n",
              "    .dataframe thead th {\n",
              "        text-align: right;\n",
              "    }\n",
              "</style>\n",
              "<table border=\"1\" class=\"dataframe\">\n",
              "  <thead>\n",
              "    <tr style=\"text-align: right;\">\n",
              "      <th></th>\n",
              "      <th>id</th>\n",
              "      <th>qid1</th>\n",
              "      <th>qid2</th>\n",
              "      <th>question1</th>\n",
              "      <th>question2</th>\n",
              "      <th>is_duplicate</th>\n",
              "    </tr>\n",
              "  </thead>\n",
              "  <tbody>\n",
              "    <tr>\n",
              "      <th>0</th>\n",
              "      <td>0</td>\n",
              "      <td>1</td>\n",
              "      <td>2</td>\n",
              "      <td>What is the step by step guide to invest in sh...</td>\n",
              "      <td>What is the step by step guide to invest in sh...</td>\n",
              "      <td>0</td>\n",
              "    </tr>\n",
              "    <tr>\n",
              "      <th>1</th>\n",
              "      <td>1</td>\n",
              "      <td>3</td>\n",
              "      <td>4</td>\n",
              "      <td>What is the story of Kohinoor (Koh-i-Noor) Dia...</td>\n",
              "      <td>What would happen if the Indian government sto...</td>\n",
              "      <td>0</td>\n",
              "    </tr>\n",
              "    <tr>\n",
              "      <th>2</th>\n",
              "      <td>2</td>\n",
              "      <td>5</td>\n",
              "      <td>6</td>\n",
              "      <td>How can I increase the speed of my internet co...</td>\n",
              "      <td>How can Internet speed be increased by hacking...</td>\n",
              "      <td>0</td>\n",
              "    </tr>\n",
              "    <tr>\n",
              "      <th>3</th>\n",
              "      <td>3</td>\n",
              "      <td>7</td>\n",
              "      <td>8</td>\n",
              "      <td>Why am I mentally very lonely? How can I solve...</td>\n",
              "      <td>Find the remainder when [math]23^{24}[/math] i...</td>\n",
              "      <td>0</td>\n",
              "    </tr>\n",
              "    <tr>\n",
              "      <th>4</th>\n",
              "      <td>4</td>\n",
              "      <td>9</td>\n",
              "      <td>10</td>\n",
              "      <td>Which one dissolve in water quikly sugar, salt...</td>\n",
              "      <td>Which fish would survive in salt water?</td>\n",
              "      <td>0</td>\n",
              "    </tr>\n",
              "    <tr>\n",
              "      <th>5</th>\n",
              "      <td>5</td>\n",
              "      <td>11</td>\n",
              "      <td>12</td>\n",
              "      <td>Astrology: I am a Capricorn Sun Cap moon and c...</td>\n",
              "      <td>I'm a triple Capricorn (Sun, Moon and ascendan...</td>\n",
              "      <td>1</td>\n",
              "    </tr>\n",
              "    <tr>\n",
              "      <th>6</th>\n",
              "      <td>6</td>\n",
              "      <td>13</td>\n",
              "      <td>14</td>\n",
              "      <td>Should I buy tiago?</td>\n",
              "      <td>What keeps childern active and far from phone ...</td>\n",
              "      <td>0</td>\n",
              "    </tr>\n",
              "    <tr>\n",
              "      <th>7</th>\n",
              "      <td>7</td>\n",
              "      <td>15</td>\n",
              "      <td>16</td>\n",
              "      <td>How can I be a good geologist?</td>\n",
              "      <td>What should I do to be a great geologist?</td>\n",
              "      <td>1</td>\n",
              "    </tr>\n",
              "  </tbody>\n",
              "</table>\n",
              "</div>"
            ],
            "text/plain": [
              "   id  qid1  ...                                          question2 is_duplicate\n",
              "0   0     1  ...  What is the step by step guide to invest in sh...            0\n",
              "1   1     3  ...  What would happen if the Indian government sto...            0\n",
              "2   2     5  ...  How can Internet speed be increased by hacking...            0\n",
              "3   3     7  ...  Find the remainder when [math]23^{24}[/math] i...            0\n",
              "4   4     9  ...            Which fish would survive in salt water?            0\n",
              "5   5    11  ...  I'm a triple Capricorn (Sun, Moon and ascendan...            1\n",
              "6   6    13  ...  What keeps childern active and far from phone ...            0\n",
              "7   7    15  ...          What should I do to be a great geologist?            1\n",
              "\n",
              "[8 rows x 6 columns]"
            ]
          },
          "metadata": {
            "tags": []
          },
          "execution_count": 44
        }
      ]
    },
    {
      "cell_type": "code",
      "metadata": {
        "colab": {
          "base_uri": "https://localhost:8080/"
        },
        "id": "35ojeRvY5rAR",
        "outputId": "d03f0aee-5f2f-4739-ce26-b14e81bfff62"
      },
      "source": [
        "df.info()"
      ],
      "execution_count": 45,
      "outputs": [
        {
          "output_type": "stream",
          "text": [
            "<class 'pandas.core.frame.DataFrame'>\n",
            "RangeIndex: 404290 entries, 0 to 404289\n",
            "Data columns (total 6 columns):\n",
            " #   Column        Non-Null Count   Dtype \n",
            "---  ------        --------------   ----- \n",
            " 0   id            404290 non-null  int64 \n",
            " 1   qid1          404290 non-null  int64 \n",
            " 2   qid2          404290 non-null  int64 \n",
            " 3   question1     404289 non-null  object\n",
            " 4   question2     404288 non-null  object\n",
            " 5   is_duplicate  404290 non-null  int64 \n",
            "dtypes: int64(4), object(2)\n",
            "memory usage: 18.5+ MB\n"
          ],
          "name": "stdout"
        }
      ]
    },
    {
      "cell_type": "code",
      "metadata": {
        "colab": {
          "base_uri": "https://localhost:8080/",
          "height": 327
        },
        "id": "07FnUY5m5t5N",
        "outputId": "894fe70b-06cf-42d5-c7b2-5399424e3330"
      },
      "source": [
        "print( round(df['is_duplicate'].mean()*100, 2),\"% duplicated question pairs.\")\n",
        "print(100- round(df['is_duplicate'].mean()*100, 2),\"% non duplicated question pairs.\")\n",
        "df.groupby(\"is_duplicate\")['id'].count().plot.bar()"
      ],
      "execution_count": 46,
      "outputs": [
        {
          "output_type": "stream",
          "text": [
            "36.92 % duplicated question pairs.\n",
            "63.08 % non duplicated question pairs.\n"
          ],
          "name": "stdout"
        },
        {
          "output_type": "execute_result",
          "data": {
            "text/plain": [
              "<matplotlib.axes._subplots.AxesSubplot at 0x7efccbe0d690>"
            ]
          },
          "metadata": {
            "tags": []
          },
          "execution_count": 46
        },
        {
          "output_type": "display_data",
          "data": {
            "image/png": "[encoded data removed]",
            "text/plain": [
              "<Figure size 432x288 with 1 Axes>"
            ]
          },
          "metadata": {
            "tags": [],
            "needs_background": "light"
          }
        }
      ]
    },
    {
      "cell_type": "code",
      "metadata": {
        "id": "idVppuJyDPYr"
      },
      "source": [
        "df = df.fillna('')"
      ],
      "execution_count": 47,
      "outputs": []
    },
    {
      "cell_type": "markdown",
      "metadata": {
        "id": "_ItJlpDD9Tsi"
      },
      "source": [
        "## Feature Enginerring \n",
        "\n",
        " - ___q1len___ = Length of q1\n",
        " - ___q2len___ = Length of q2\n",
        " - ___diff_len___ = len(q1)-len(q2)       \n",
        "\n",
        "\n",
        " - ___q1_n_words___ = Number of words in q1\n",
        " - ___q2_n_words___ = Number of words in q2\n",
        " - ___diff_n_words___ = The difference       \n",
        "\n",
        "\n",
        " - ___caps_count_q1___ = Number of capital words of q1\n",
        " - ___caps_count_q2___ = Number of capital words of q2\n",
        " - ___diff_caps___ = The difference       \n",
        "\n",
        "\n",
        " - ___len_char_q1___ = Number of characters of q1\n",
        " - ___len_char_q2___ = Number of characters of q2\n",
        " - ___diff_len_char___ = The difference      \n",
        "\n",
        "\n",
        " - ___avg_word_len1___ = len(char)/len(word) of q1\n",
        " - ___avg_word_len2___ = len(char)/len(word) of q2\n",
        " - ___diff_avg_word___ = The difference      \n",
        "\n",
        "\n",
        " - ___word_Common___ = Number of common unique words in q1 and q2\n",
        " - ___word_Total___ = Total num of words in Question 1 + Total num of words in q2\n",
        " - ___word_share___ = (word_common)/(word_Total)    \n",
        " - ___2_gram_share___ = word share on 2 gram\n",
        "\n",
        "\n",
        " - ___exactly_same___ = exactly the same\n",
        "\n"
      ]
    },
    {
      "cell_type": "code",
      "metadata": {
        "colab": {
          "base_uri": "https://localhost:8080/",
          "height": 618
        },
        "id": "Ktl-pQga7R9O",
        "outputId": "6ff31dd7-58ff-4cd6-e199-e4901c00b00b"
      },
      "source": [
        "if os.path.isfile('/content/drive/MyDrive/Project/feature_tm.csv'):\n",
        "  df = pd.read_csv('/content/drive/MyDrive/Project/feature_tm.csv',encoding='latin-1')\n",
        "else:\n",
        "  df['q1len'] = df.question1.str.len()\n",
        "  df['q2len'] = df.question2.str.len()\n",
        "  df['diff_len'] = df.q1len - df.q2len\n",
        "  \n",
        "  df['len_word_q1'] = df.question1.apply(lambda row: len(row.split(\" \")))\n",
        "  df['len_word_q2'] = df.question2.apply(lambda row: len(row.split(\" \")))\n",
        "  df['diff_words'] = df.len_word_q1 - df.len_word_q2\n",
        "  \n",
        "  df['caps_count_q1'] = df.question1.apply(lambda x:sum(1 for i in str(x) if i.isupper()))\n",
        "  df['caps_count_q2'] = df.question2.apply(lambda x:sum(1 for i in str(x) if i.isupper()))\n",
        "  df['diff_caps'] = df.caps_count_q1 - df.caps_count_q2\n",
        "  \n",
        "  df['len_char_q1'] = df.question1.apply(lambda x: len(str(x).replace(' ', '')))\n",
        "  df['len_char_q2'] = df.question2.apply(lambda x: len(str(x).replace(' ', '')))\n",
        "  df['diff_len_char'] = df.len_char_q1 - df.len_char_q2\n",
        "  \n",
        "  df['avg_world_len1'] = df.len_char_q1 / df.len_word_q1\n",
        "  df['avg_world_len2'] = df.len_char_q2 / df.len_word_q2\n",
        "  df['diff_avg_word'] = df.avg_world_len1 - df.avg_world_len2\n",
        "\n",
        "  def word_common(row):\n",
        "      w1 = set(map(lambda word: word.lower().strip(), row.question1.split(\" \")))\n",
        "      w2 = set(map(lambda word: word.lower().strip(), row.question2.split(\" \")))    \n",
        "      return 1.0 * len(w1 & w2)\n",
        "\n",
        "  def word_total(row):\n",
        "      w1 = set(map(lambda word: word.lower().strip(), row.question1.split(\" \")))\n",
        "      w2 = set(map(lambda word: word.lower().strip(), row.question2.split(\" \")))    \n",
        "      return 1.0 * (len(w1) + len(w2))\n",
        "\n",
        "  def word_share(row):\n",
        "      w1 = set(map(lambda word: word.lower().strip(), row.question1.split(\" \")))\n",
        "      w2 = set(map(lambda word: word.lower().strip(), row.question2.split(\" \")))    \n",
        "      return 1.0 * len(w1 & w2)/(len(w1) + len(w2))\n",
        "\n",
        "  def get_2_gram_share(row):\n",
        "      q1_list = str(row.question1).lower().split()\n",
        "      q2_list = str(row.question2).lower().split()\n",
        "      q1_2_gram = set([i for i in zip(q1_list, q1_list[1:])])\n",
        "      q2_2_gram = set([i for i in zip(q2_list, q2_list[1:])])\n",
        "      shared_2_gram = q1_2_gram.intersection(q2_2_gram)\n",
        "      if len(q1_2_gram) + len(q2_2_gram) == 0:\n",
        "          R2gram = 0\n",
        "      else:\n",
        "          R2gram = len(shared_2_gram) / (len(q1_2_gram) + len(q2_2_gram))\n",
        "      return R2gram\n",
        "\n",
        "  df['word_Common'] = df.apply(word_common, axis=1)\n",
        "  df['word_Total'] = df.apply(word_total, axis=1)\n",
        "  df['word_share'] = df.apply(word_share, axis=1)\n",
        "  df['share_2_gram'] = df.apply(get_2_gram_share, axis=1) \n",
        "\n",
        "  df.to_csv('/content/drive/MyDrive/Project/feature_tm.csv', index=False)\n",
        "\n",
        "df.head()"
      ],
      "execution_count": 49,
      "outputs": [
        {
          "output_type": "execute_result",
          "data": {
            "text/html": [
              "<div>\n",
              "<style scoped>\n",
              "    .dataframe tbody tr th:only-of-type {\n",
              "        vertical-align: middle;\n",
              "    }\n",
              "\n",
              "    .dataframe tbody tr th {\n",
              "        vertical-align: top;\n",
              "    }\n",
              "\n",
              "    .dataframe thead th {\n",
              "        text-align: right;\n",
              "    }\n",
              "</style>\n",
              "<table border=\"1\" class=\"dataframe\">\n",
              "  <thead>\n",
              "    <tr style=\"text-align: right;\">\n",
              "      <th></th>\n",
              "      <th>id</th>\n",
              "      <th>qid1</th>\n",
              "      <th>qid2</th>\n",
              "      <th>question1</th>\n",
              "      <th>question2</th>\n",
              "      <th>is_duplicate</th>\n",
              "      <th>q1len</th>\n",
              "      <th>q2len</th>\n",
              "      <th>diff_len</th>\n",
              "      <th>len_word_q1</th>\n",
              "      <th>len_word_q2</th>\n",
              "      <th>diff_words</th>\n",
              "      <th>caps_count_q1</th>\n",
              "      <th>caps_count_q2</th>\n",
              "      <th>diff_caps</th>\n",
              "      <th>len_char_q1</th>\n",
              "      <th>len_char_q2</th>\n",
              "      <th>diff_len_char</th>\n",
              "      <th>avg_world_len1</th>\n",
              "      <th>avg_world_len2</th>\n",
              "      <th>diff_avg_word</th>\n",
              "      <th>word_Common</th>\n",
              "      <th>word_Total</th>\n",
              "      <th>word_share</th>\n",
              "      <th>share_2_gram</th>\n",
              "    </tr>\n",
              "  </thead>\n",
              "  <tbody>\n",
              "    <tr>\n",
              "      <th>0</th>\n",
              "      <td>0</td>\n",
              "      <td>1</td>\n",
              "      <td>2</td>\n",
              "      <td>What is the step by step guide to invest in sh...</td>\n",
              "      <td>What is the step by step guide to invest in sh...</td>\n",
              "      <td>0</td>\n",
              "      <td>66</td>\n",
              "      <td>57</td>\n",
              "      <td>9</td>\n",
              "      <td>14</td>\n",
              "      <td>12</td>\n",
              "      <td>2</td>\n",
              "      <td>1</td>\n",
              "      <td>1</td>\n",
              "      <td>0</td>\n",
              "      <td>53</td>\n",
              "      <td>46</td>\n",
              "      <td>7</td>\n",
              "      <td>3.785714</td>\n",
              "      <td>3.833333</td>\n",
              "      <td>-0.047619</td>\n",
              "      <td>10.0</td>\n",
              "      <td>23.0</td>\n",
              "      <td>0.434783</td>\n",
              "      <td>0.416667</td>\n",
              "    </tr>\n",
              "    <tr>\n",
              "      <th>1</th>\n",
              "      <td>1</td>\n",
              "      <td>3</td>\n",
              "      <td>4</td>\n",
              "      <td>What is the story of Kohinoor (Koh-i-Noor) Dia...</td>\n",
              "      <td>What would happen if the Indian government sto...</td>\n",
              "      <td>0</td>\n",
              "      <td>51</td>\n",
              "      <td>88</td>\n",
              "      <td>-37</td>\n",
              "      <td>8</td>\n",
              "      <td>13</td>\n",
              "      <td>-5</td>\n",
              "      <td>5</td>\n",
              "      <td>5</td>\n",
              "      <td>0</td>\n",
              "      <td>44</td>\n",
              "      <td>76</td>\n",
              "      <td>-32</td>\n",
              "      <td>5.500000</td>\n",
              "      <td>5.846154</td>\n",
              "      <td>-0.346154</td>\n",
              "      <td>4.0</td>\n",
              "      <td>20.0</td>\n",
              "      <td>0.200000</td>\n",
              "      <td>0.052632</td>\n",
              "    </tr>\n",
              "    <tr>\n",
              "      <th>2</th>\n",
              "      <td>2</td>\n",
              "      <td>5</td>\n",
              "      <td>6</td>\n",
              "      <td>How can I increase the speed of my internet co...</td>\n",
              "      <td>How can Internet speed be increased by hacking...</td>\n",
              "      <td>0</td>\n",
              "      <td>73</td>\n",
              "      <td>59</td>\n",
              "      <td>14</td>\n",
              "      <td>14</td>\n",
              "      <td>10</td>\n",
              "      <td>4</td>\n",
              "      <td>5</td>\n",
              "      <td>5</td>\n",
              "      <td>0</td>\n",
              "      <td>60</td>\n",
              "      <td>50</td>\n",
              "      <td>10</td>\n",
              "      <td>4.285714</td>\n",
              "      <td>5.000000</td>\n",
              "      <td>-0.714286</td>\n",
              "      <td>4.0</td>\n",
              "      <td>24.0</td>\n",
              "      <td>0.166667</td>\n",
              "      <td>0.045455</td>\n",
              "    </tr>\n",
              "    <tr>\n",
              "      <th>3</th>\n",
              "      <td>3</td>\n",
              "      <td>7</td>\n",
              "      <td>8</td>\n",
              "      <td>Why am I mentally very lonely? How can I solve...</td>\n",
              "      <td>Find the remainder when [math]23^{24}[/math] i...</td>\n",
              "      <td>0</td>\n",
              "      <td>50</td>\n",
              "      <td>65</td>\n",
              "      <td>-15</td>\n",
              "      <td>11</td>\n",
              "      <td>9</td>\n",
              "      <td>2</td>\n",
              "      <td>4</td>\n",
              "      <td>1</td>\n",
              "      <td>3</td>\n",
              "      <td>40</td>\n",
              "      <td>57</td>\n",
              "      <td>-17</td>\n",
              "      <td>3.636364</td>\n",
              "      <td>6.333333</td>\n",
              "      <td>-2.696970</td>\n",
              "      <td>0.0</td>\n",
              "      <td>19.0</td>\n",
              "      <td>0.000000</td>\n",
              "      <td>0.000000</td>\n",
              "    </tr>\n",
              "    <tr>\n",
              "      <th>4</th>\n",
              "      <td>4</td>\n",
              "      <td>9</td>\n",
              "      <td>10</td>\n",
              "      <td>Which one dissolve in water quikly sugar, salt...</td>\n",
              "      <td>Which fish would survive in salt water?</td>\n",
              "      <td>0</td>\n",
              "      <td>76</td>\n",
              "      <td>39</td>\n",
              "      <td>37</td>\n",
              "      <td>13</td>\n",
              "      <td>7</td>\n",
              "      <td>6</td>\n",
              "      <td>1</td>\n",
              "      <td>1</td>\n",
              "      <td>0</td>\n",
              "      <td>64</td>\n",
              "      <td>33</td>\n",
              "      <td>31</td>\n",
              "      <td>4.923077</td>\n",
              "      <td>4.714286</td>\n",
              "      <td>0.208791</td>\n",
              "      <td>2.0</td>\n",
              "      <td>20.0</td>\n",
              "      <td>0.100000</td>\n",
              "      <td>0.000000</td>\n",
              "    </tr>\n",
              "  </tbody>\n",
              "</table>\n",
              "</div>"
            ],
            "text/plain": [
              "   id  qid1  qid2  ... word_Total word_share  share_2_gram\n",
              "0   0     1     2  ...       23.0   0.434783      0.416667\n",
              "1   1     3     4  ...       20.0   0.200000      0.052632\n",
              "2   2     5     6  ...       24.0   0.166667      0.045455\n",
              "3   3     7     8  ...       19.0   0.000000      0.000000\n",
              "4   4     9    10  ...       20.0   0.100000      0.000000\n",
              "\n",
              "[5 rows x 25 columns]"
            ]
          },
          "metadata": {
            "tags": []
          },
          "execution_count": 49
        }
      ]
    },
    {
      "cell_type": "code",
      "metadata": {
        "id": "faFnsvG-_Dq6"
      },
      "source": [
        ""
      ],
      "execution_count": null,
      "outputs": []
    }
  ]
}