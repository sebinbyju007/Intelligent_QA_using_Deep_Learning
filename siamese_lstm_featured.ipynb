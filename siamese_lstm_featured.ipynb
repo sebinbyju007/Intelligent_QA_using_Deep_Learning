{
  "nbformat": 4,
  "nbformat_minor": 0,
  "metadata": {
    "kernelspec": {
      "display_name": "Python 3",
      "language": "python",
      "name": "python3"
    },
    "language_info": {
      "codemirror_mode": {
        "name": "ipython",
        "version": 3
      },
      "file_extension": ".py",
      "mimetype": "text/x-python",
      "name": "python",
      "nbconvert_exporter": "python",
      "pygments_lexer": "ipython3",
      "version": "3.8.5"
    },
    "toc": {
      "base_numbering": 1,
      "nav_menu": {},
      "number_sections": true,
      "sideBar": true,
      "skip_h1_title": false,
      "title_cell": "Table of Contents",
      "title_sidebar": "Contents",
      "toc_cell": false,
      "toc_position": {},
      "toc_section_display": true,
      "toc_window_display": false
    },
    "varInspector": {
      "cols": {
        "lenName": 16,
        "lenType": 16,
        "lenVar": 40
      },
      "kernels_config": {
        "python": {
          "delete_cmd_postfix": "",
          "delete_cmd_prefix": "del ",
          "library": "var_list.py",
          "varRefreshCmd": "print(var_dic_list())"
        },
        "r": {
          "delete_cmd_postfix": ") ",
          "delete_cmd_prefix": "rm(",
          "library": "var_list.r",
          "varRefreshCmd": "cat(var_dic_list()) "
        }
      },
      "types_to_exclude": [
        "module",
        "function",
        "builtin_function_or_method",
        "instance",
        "_Feature"
      ],
      "window_display": false
    },
    "colab": {
      "name": "siamese_lstm_featured.ipynb",
      "provenance": [],
      "toc_visible": true
    },
    "accelerator": "GPU"
  },
  "cells": [
    {
      "cell_type": "markdown",
      "metadata": {
        "id": "1lvNV8CJIPPZ"
      },
      "source": [
        "# Siamese-BiLSTM with Features(tm+nlp)\n",
        "- A new model based on feature_engineering and Siamese-BiLSTM\n",
        "- Adding features in `feature_nlp.csv` and `feature_tm.csv` (my previous work on feature engineering) to features in the LSTM based neural network structure.\n",
        "- New: using BiLSTM adding around 40 more features to leaky features, and doubled N_DENSE in Dense layer (to achieve a balance of lstm nn features and adding features). (from N_DENSE/2 to N_DENSE).\n",
        "\n",
        "    \n",
        "- **Output:**\n",
        "  - `lstm_featured.csv`: 4 epoch, score: 0.16515, **best score in our project**\n",
        "    - 1st epoch: loss: 0.2489 - acc: 0.8280 - val_loss: 0.1927 - val_acc: 0.8630\n",
        "    - last epoch: loss: 0.1790 - acc: 0.8714 - val_loss: 0.1700 - val_acc: 0.8723"
      ]
    },
    {
      "cell_type": "code",
      "metadata": {
        "colab": {
          "base_uri": "https://localhost:8080/"
        },
        "id": "T9GQoDrEIgF1",
        "outputId": "2b3c00ad-99d8-43d9-9ee4-5fb7de6d3451"
      },
      "source": [
        "from google.colab import drive\n",
        "drive.mount('/content/drive')"
      ],
      "execution_count": 1,
      "outputs": [
        {
          "output_type": "stream",
          "text": [
            "Mounted at /content/drive\n"
          ],
          "name": "stdout"
        }
      ]
    },
    {
      "cell_type": "code",
      "metadata": {
        "id": "wsMLSLtrIPPf"
      },
      "source": [
        "import os\n",
        "import re\n",
        "import csv\n",
        "import numpy as np # linear algebra\n",
        "import pandas as pd # data processing, CSV file I/O (e.g. pd.read_csv)\n",
        "from string import punctuation\n",
        "from collections import defaultdict\n",
        "# from tqdm import tqdm\n",
        "from sklearn.preprocessing import StandardScaler\n",
        "from nltk.corpus import stopwords\n",
        "from nltk.stem import SnowballStemmer\n",
        "\n",
        "# Keras package\n",
        "from keras.preprocessing.text import Tokenizer\n",
        "from keras.preprocessing.sequence import pad_sequences\n",
        "from keras.layers import Dense, Input, Embedding, Dropout, Activation, LSTM, Lambda,Conv1D\n",
        "from keras.layers.merge import concatenate\n",
        "from keras.models import Model\n",
        "from keras.layers.normalization import BatchNormalization\n",
        "from keras.callbacks import EarlyStopping, ModelCheckpoint\n",
        "from keras.layers.pooling import GlobalAveragePooling1D\n",
        "import keras.backend as K\n"
      ],
      "execution_count": 5,
      "outputs": []
    },
    {
      "cell_type": "code",
      "metadata": {
        "id": "n9O7FdHRIPPg"
      },
      "source": [
        "#wget http://nlp.stanford.edu/data/glove.840B.300d.zip\n",
        "#unzip glove.840B.300d.zip"
      ],
      "execution_count": 6,
      "outputs": []
    },
    {
      "cell_type": "code",
      "metadata": {
        "colab": {
          "base_uri": "https://localhost:8080/"
        },
        "id": "AFwXS_45IPPh",
        "outputId": "1d3f544b-6d72-4112-8ab0-1927b4e51c72"
      },
      "source": [
        "# Hyperparameter defination\n",
        "\n",
        "# Use the following instructions to download glove and unzip it, if already installed, just comment them.\n",
        "# !wget http://nlp.stanford.edu/data/glove.840B.300d.zip\n",
        "# !unzip glove.840B.300d.zip\n",
        "EMBEDDING_FILE = '/content/drive/MyDrive/Project/glove.840B.300d.txt'\n",
        "\n",
        "TRAIN_DATA_FILE = '/content/drive/MyDrive/Project/train.csv.zip'\n",
        "TEST_DATA_FILE = '/content/drive/MyDrive/Project/new_test.csv'\n",
        "\n",
        "MAX_SEQUENCE_LENGTH = 60  \n",
        "MAX_NUM_WORDS = 200000  # There are about 201000 unique words in training dataset, 200000 is enough for tokenization\n",
        "EMBEDDING_DIM = 300  # word-embedded-vector dimension(300 is for 'glove.840B.300d')\n",
        "VALIDATION_SPLIT_RATE = 0.1 \n",
        "N_HIDDEN = np.random.randint(175, 275)  # 250\n",
        "N_DENSE = np.random.randint(100, 150)  # 120\n",
        "DROPOUT_RATE_LSTM = 0.15 + np.random.rand() * 0.25  # drop-out possibility, random set to avoid outfitting  # 0.20\n",
        "DROUPOUT_RATE_DENSE = 0.15 + np.random.rand() * 0.25  # 0.20\n",
        "\n",
        "VERSION = 'lstm_featured'\n",
        "print('LSTM Stucture:')\n",
        "print('Num_Lstm:', N_HIDDEN)\n",
        "print('Num_Dense:', N_DENSE)\n",
        "print('Dropout rate in LSTM layer:', DROPOUT_RATE_LSTM) \n",
        "print('Dropout rate in Dense layer::', DROUPOUT_RATE_DENSE)\n",
        "\n",
        "ACTIVE_FUNC = 'relu'\n",
        "re_weight = True  # whether to re-weight classes to fit the 17.4% share in test set\n"
      ],
      "execution_count": 3,
      "outputs": [
        {
          "output_type": "stream",
          "text": [
            "LSTM Stucture:\n",
            "Num_Lstm: 189\n",
            "Num_Dense: 137\n",
            "Dropout rate in LSTM layer: 0.15409333214821905\n",
            "Dropout rate in Dense layer:: 0.17714767347354465\n"
          ],
          "name": "stdout"
        }
      ]
    },
    {
      "cell_type": "code",
      "metadata": {
        "colab": {
          "base_uri": "https://localhost:8080/"
        },
        "id": "3shwAI41IPPi",
        "outputId": "e89184f8-7f40-4f96-d78e-e0482f6123d1"
      },
      "source": [
        "# Create word embedding dictionary from 'glove.840B.300d.txt', {key:value} is {word: glove vector(300,)}\n",
        "print('Create word embedding dictionary')\n",
        "\n",
        "embeddings_index = {}  # the output dictionary\n",
        "f = open(EMBEDDING_FILE, encoding='utf-8')\n",
        "for line in f:  # tqdm\n",
        "    values = line.split()\n",
        "    word = ''.join(values[:-300])   \n",
        "    coefs = np.asarray(values[-300:], dtype='float32')\n",
        "    embeddings_index[word] = coefs\n",
        "f.close()\n",
        "\n",
        "print('Found {} word vectors of glove.'.format(len(embeddings_index)))\n",
        "\n",
        "\n",
        "# Preprocess text in dataset\n",
        "print('Processing text dataset')\n",
        "\n",
        "def text_to_wordlist(text, remove_stopwords=False, stem_words=False):\n",
        "    # Clean the text, with the option to remove stopwords and to stem words.\n",
        "    \n",
        "    # Convert words to lower case and split them\n",
        "    text = text.lower().split()\n",
        "\n",
        "    # Optionally, remove stop words\n",
        "    if remove_stopwords:\n",
        "        stop_words = set(stopwords.words(\"english\"))\n",
        "        text = [w for w in text if not w in stop_words]\n",
        "    \n",
        "    text = \" \".join(text)\n",
        "\n",
        "    # Use re to clean the text\n",
        "    text = re.sub(r\"[^A-Za-z0-9^,!.\\/'+-=]\", \" \", text)\n",
        "    text = re.sub(r\"what's\", \"what is \", text)\n",
        "    text = re.sub(r\"\\'s\", \" \", text)\n",
        "    text = re.sub(r\"\\'ve\", \" have \", text)\n",
        "    text = re.sub(r\"can't\", \"cannot \", text)\n",
        "    text = re.sub(r\"n't\", \" not \", text)\n",
        "    text = re.sub(r\"i'm\", \"i am \", text)\n",
        "    text = re.sub(r\"\\'re\", \" are \", text)\n",
        "    text = re.sub(r\"\\'d\", \" would \", text)\n",
        "    text = re.sub(r\"\\'ll\", \" will \", text)\n",
        "    text = re.sub(r\",\", \" \", text)\n",
        "    text = re.sub(r\"\\.\", \" \", text)\n",
        "    text = re.sub(r\"!\", \" ! \", text)\n",
        "    text = re.sub(r\"\\/\", \" \", text)\n",
        "    text = re.sub(r\"\\^\", \" ^ \", text)\n",
        "    text = re.sub(r\"\\+\", \" + \", text)\n",
        "    text = re.sub(r\"\\-\", \" - \", text)\n",
        "    text = re.sub(r\"\\=\", \" = \", text)\n",
        "    text = re.sub(r\"'\", \" \", text)\n",
        "    text = re.sub(r\":\", \" : \", text)\n",
        "    text = re.sub(r\"(\\d+)(k)\", r\"\\g<1>000\", text)\n",
        "    text = re.sub(r\" e g \", \" eg \", text)\n",
        "    text = re.sub(r\" b g \", \" bg \", text)\n",
        "    text = re.sub(r\" u s \", \" american \", text)\n",
        "    # text = re.sub(r\"\\0s\", \"0\", text) # It doesn't make sense to me\n",
        "    text = re.sub(r\" 9 11 \", \"911\", text)\n",
        "    text = re.sub(r\"e - mail\", \"email\", text)\n",
        "    text = re.sub(r\"j k\", \"jk\", text)\n",
        "    text = re.sub(r\"\\s{2,}\", \" \", text)\n",
        "    \n",
        "    # Optionally, shorten words to their stems\n",
        "    if stem_words:\n",
        "        text = text.split()\n",
        "        stemmer = SnowballStemmer('english')\n",
        "        stemmed_words = [stemmer.stem(word) for word in text]\n",
        "        text = \" \".join(stemmed_words)\n",
        "    # or nltk package\n",
        "    # if lemma:\n",
        "    #    text = text.split()\n",
        "    #    wn = nltk.WordNetLemmatizer()\n",
        "    #    lemm_words = [wn.lemmatize(word) for word in text]\n",
        "    #    text = \" \".join(lemm_words)\n",
        "    \n",
        "    # Return a list of words\n",
        "    return(text)\n",
        "\n",
        "# Load training data and process with text_to_wordlist (Preprocessing)\n",
        "train_texts_1 = []  # the preprocessed text of q1\n",
        "train_texts_2 = []  # the preprocessed text of q2\n",
        "train_labels = []  # training labels\n",
        "\n",
        "df_train = pd.read_csv(TRAIN_DATA_FILE, encoding='utf-8')  # the original training data\n",
        "df_train = df_train.fillna('empty')\n",
        "#train_q1 = df_train.question1.values  # the original text of q1\n",
        "#train_q2 = df_train.question2.values  # the original text fo q2\n",
        "train_labels = df_train.is_duplicate.values  # the original label('is_duplicate')\n",
        "\n",
        "for text in df_train.question1.values:\n",
        "    train_texts_1.append(text_to_wordlist(text, remove_stopwords=False, stem_words=False))\n",
        "    \n",
        "for text in df_train.question2.values:\n",
        "    train_texts_2.append(text_to_wordlist(text, remove_stopwords=False, stem_words=False))\n",
        "\n",
        "print('{} texts are found in train.csv'.format(len(train_texts_1)))\n",
        "\n",
        "# Load testing data and process with text_to_wordlist (Preprocessing)\n",
        "test_texts_1 = []  # the preprocessed text of q1_test\n",
        "test_texts_2 = []  # the preprocessed text of q2_test\n",
        "test_ids = []  # id..\n",
        "\n",
        "df_test = pd.read_csv(TEST_DATA_FILE, encoding='utf-8')[:500]  # the original testing data\n",
        "df_test = df_test.fillna('empty')\n",
        "#test_q1 = df_test.question1.values  # the original text of q1_test\n",
        "#test_q2 = df_test.question2.values  # the original text of q2_test\n",
        "test_ids = df_test.test_id.values  # id..\n",
        "\n",
        "for text in df_test.question1.values:\n",
        "    test_texts_1.append(text_to_wordlist(text, remove_stopwords=False, stem_words=False))\n",
        "    \n",
        "for text in df_test.question2.values:\n",
        "    test_texts_2.append(text_to_wordlist(text, remove_stopwords=False, stem_words=False))\n",
        "    \n",
        "print('{} texts are found in test.csv'.format(len(test_texts_1)))\n"
      ],
      "execution_count": 4,
      "outputs": [
        {
          "output_type": "stream",
          "text": [
            "Create word embedding dictionary\n",
            "Found 2195892 word vectors of glove.\n",
            "Processing text dataset\n",
            "404290 texts are found in train.csv\n",
            "500 texts are found in test.csv\n"
          ],
          "name": "stdout"
        }
      ]
    },
    {
      "cell_type": "code",
      "metadata": {
        "id": "v8tr_YxPIPPj",
        "colab": {
          "base_uri": "https://localhost:8080/"
        },
        "outputId": "99f47990-bf59-486d-fbcb-de669f074058"
      },
      "source": [
        "# Keras.Tokenize for all text:\n",
        "# First construct a Tokenizer()\n",
        "# Then use tokenizer_on_texts() method to learn the dictionary of the corpus(all texts(sentences)). We can use .word_index to map between the each word (distinct) with the corresponding number.\n",
        "# Then use text_to_sequence() method to transfer every text(sentence) in texts into sequences of word_indexes.\n",
        "# Then add the same length by padding method: padding_sequences().\n",
        "# Finally use the embedding layer in keras to carry out a vectorization, and input it into LSTM.\n",
        "\n",
        "tokenizer = Tokenizer(num_words=MAX_NUM_WORDS)\n",
        "tokenizer.fit_on_texts(train_texts_1 + train_texts_2 + test_texts_1 + test_texts_2)  # generate a token dictionary, \n",
        "\n",
        "train_texts_1 = tokenizer.texts_to_sequences(train_texts_1)  # sequence of q1\n",
        "train_texts_2 = tokenizer.texts_to_sequences(train_texts_2)  # sequence of q2\n",
        "test_texts_1 = tokenizer.texts_to_sequences(test_texts_1)  # sequence of q1_test\n",
        "test_texts_2 = tokenizer.texts_to_sequences(test_texts_2)  # sequence of q2_test\n",
        "\n",
        "word_index = tokenizer.word_index\n",
        "print('{} unique tokens are found'.format(len(word_index)))\n",
        "\n",
        "# Pad all train with Max_Sequence_Length: 60\n",
        "train_texts_1 = pad_sequences(train_texts_1, maxlen=MAX_SEQUENCE_LENGTH)  # padded_sequence of q1 as train_data\n",
        "train_texts_2 = pad_sequences(train_texts_2, maxlen=MAX_SEQUENCE_LENGTH)  # padded_sequence of q2 as train_data\n",
        "print('Shape of train data tensor:', train_texts_1.shape)\n",
        "print('Shape of train labels tensor:', train_labels.shape)\n",
        "\n",
        "# Pad all test with Max_Sequence_Length\n",
        "test_texts_1 = pad_sequences(test_texts_1, maxlen=MAX_SEQUENCE_LENGTH)  # padded_sequence of q1_test as test_data\n",
        "test_texts_2 = pad_sequences(test_texts_2, maxlen=MAX_SEQUENCE_LENGTH)  # padded_sequence of q2_test as test_data\n",
        "print('Shape of test data vtensor:', test_texts_1.shape)\n",
        "print('Shape of test ids tensor:', test_ids.shape)\n"
      ],
      "execution_count": 7,
      "outputs": [
        {
          "output_type": "stream",
          "text": [
            "85570 unique tokens are found\n",
            "Shape of train data tensor: (404290, 60)\n",
            "Shape of train labels tensor: (404290,)\n",
            "Shape of test data vtensor: (500, 60)\n",
            "Shape of test ids tensor: (500,)\n"
          ],
          "name": "stdout"
        }
      ]
    },
    {
      "cell_type": "code",
      "metadata": {
        "colab": {
          "base_uri": "https://localhost:8080/",
          "height": 195
        },
        "id": "d8SO6K8CQeD4",
        "outputId": "9f6e211a-4dc2-4723-fe1e-50ba491d6cc2"
      },
      "source": [
        "df_train.head()"
      ],
      "execution_count": 8,
      "outputs": [
        {
          "output_type": "execute_result",
          "data": {
            "text/html": [
              "<div>\n",
              "<style scoped>\n",
              "    .dataframe tbody tr th:only-of-type {\n",
              "        vertical-align: middle;\n",
              "    }\n",
              "\n",
              "    .dataframe tbody tr th {\n",
              "        vertical-align: top;\n",
              "    }\n",
              "\n",
              "    .dataframe thead th {\n",
              "        text-align: right;\n",
              "    }\n",
              "</style>\n",
              "<table border=\"1\" class=\"dataframe\">\n",
              "  <thead>\n",
              "    <tr style=\"text-align: right;\">\n",
              "      <th></th>\n",
              "      <th>id</th>\n",
              "      <th>qid1</th>\n",
              "      <th>qid2</th>\n",
              "      <th>question1</th>\n",
              "      <th>question2</th>\n",
              "      <th>is_duplicate</th>\n",
              "    </tr>\n",
              "  </thead>\n",
              "  <tbody>\n",
              "    <tr>\n",
              "      <th>0</th>\n",
              "      <td>0</td>\n",
              "      <td>1</td>\n",
              "      <td>2</td>\n",
              "      <td>What is the step by step guide to invest in sh...</td>\n",
              "      <td>What is the step by step guide to invest in sh...</td>\n",
              "      <td>0</td>\n",
              "    </tr>\n",
              "    <tr>\n",
              "      <th>1</th>\n",
              "      <td>1</td>\n",
              "      <td>3</td>\n",
              "      <td>4</td>\n",
              "      <td>What is the story of Kohinoor (Koh-i-Noor) Dia...</td>\n",
              "      <td>What would happen if the Indian government sto...</td>\n",
              "      <td>0</td>\n",
              "    </tr>\n",
              "    <tr>\n",
              "      <th>2</th>\n",
              "      <td>2</td>\n",
              "      <td>5</td>\n",
              "      <td>6</td>\n",
              "      <td>How can I increase the speed of my internet co...</td>\n",
              "      <td>How can Internet speed be increased by hacking...</td>\n",
              "      <td>0</td>\n",
              "    </tr>\n",
              "    <tr>\n",
              "      <th>3</th>\n",
              "      <td>3</td>\n",
              "      <td>7</td>\n",
              "      <td>8</td>\n",
              "      <td>Why am I mentally very lonely? How can I solve...</td>\n",
              "      <td>Find the remainder when [math]23^{24}[/math] i...</td>\n",
              "      <td>0</td>\n",
              "    </tr>\n",
              "    <tr>\n",
              "      <th>4</th>\n",
              "      <td>4</td>\n",
              "      <td>9</td>\n",
              "      <td>10</td>\n",
              "      <td>Which one dissolve in water quikly sugar, salt...</td>\n",
              "      <td>Which fish would survive in salt water?</td>\n",
              "      <td>0</td>\n",
              "    </tr>\n",
              "  </tbody>\n",
              "</table>\n",
              "</div>"
            ],
            "text/plain": [
              "   id  qid1  ...                                          question2 is_duplicate\n",
              "0   0     1  ...  What is the step by step guide to invest in sh...            0\n",
              "1   1     3  ...  What would happen if the Indian government sto...            0\n",
              "2   2     5  ...  How can Internet speed be increased by hacking...            0\n",
              "3   3     7  ...  Find the remainder when [math]23^{24}[/math] i...            0\n",
              "4   4     9  ...            Which fish would survive in salt water?            0\n",
              "\n",
              "[5 rows x 6 columns]"
            ]
          },
          "metadata": {
            "tags": []
          },
          "execution_count": 8
        }
      ]
    },
    {
      "cell_type": "code",
      "metadata": {
        "colab": {
          "base_uri": "https://localhost:8080/",
          "height": 195
        },
        "id": "PwKsA1TkQjS8",
        "outputId": "2507f7de-d278-4069-b2ed-d52bd3fa3f02"
      },
      "source": [
        "df_test.head()"
      ],
      "execution_count": 9,
      "outputs": [
        {
          "output_type": "execute_result",
          "data": {
            "text/html": [
              "<div>\n",
              "<style scoped>\n",
              "    .dataframe tbody tr th:only-of-type {\n",
              "        vertical-align: middle;\n",
              "    }\n",
              "\n",
              "    .dataframe tbody tr th {\n",
              "        vertical-align: top;\n",
              "    }\n",
              "\n",
              "    .dataframe thead th {\n",
              "        text-align: right;\n",
              "    }\n",
              "</style>\n",
              "<table border=\"1\" class=\"dataframe\">\n",
              "  <thead>\n",
              "    <tr style=\"text-align: right;\">\n",
              "      <th></th>\n",
              "      <th>test_id</th>\n",
              "      <th>question1</th>\n",
              "      <th>question2</th>\n",
              "    </tr>\n",
              "  </thead>\n",
              "  <tbody>\n",
              "    <tr>\n",
              "      <th>0</th>\n",
              "      <td>0</td>\n",
              "      <td>How does the Surface Pro himself 4 compare wit...</td>\n",
              "      <td>Why did Microsoft choose core m3 and not core ...</td>\n",
              "    </tr>\n",
              "    <tr>\n",
              "      <th>1</th>\n",
              "      <td>1</td>\n",
              "      <td>Should I have a hair transplant at age 24? How...</td>\n",
              "      <td>How much cost does hair transplant require?</td>\n",
              "    </tr>\n",
              "    <tr>\n",
              "      <th>2</th>\n",
              "      <td>2</td>\n",
              "      <td>What but is the best way to send money from Ch...</td>\n",
              "      <td>What you send money to China?</td>\n",
              "    </tr>\n",
              "    <tr>\n",
              "      <th>3</th>\n",
              "      <td>3</td>\n",
              "      <td>Which food not emulsifiers?</td>\n",
              "      <td>What foods fibre?</td>\n",
              "    </tr>\n",
              "    <tr>\n",
              "      <th>4</th>\n",
              "      <td>4</td>\n",
              "      <td>How \"aberystwyth\" start reading?</td>\n",
              "      <td>How their can I start reading?</td>\n",
              "    </tr>\n",
              "  </tbody>\n",
              "</table>\n",
              "</div>"
            ],
            "text/plain": [
              "   test_id  ...                                          question2\n",
              "0        0  ...  Why did Microsoft choose core m3 and not core ...\n",
              "1        1  ...        How much cost does hair transplant require?\n",
              "2        2  ...                      What you send money to China?\n",
              "3        3  ...                                  What foods fibre?\n",
              "4        4  ...                     How their can I start reading?\n",
              "\n",
              "[5 rows x 3 columns]"
            ]
          },
          "metadata": {
            "tags": []
          },
          "execution_count": 9
        }
      ]
    },
    {
      "cell_type": "code",
      "metadata": {
        "id": "l-G0dblgIPPk",
        "colab": {
          "base_uri": "https://localhost:8080/"
        },
        "outputId": "6a6bec40-c7ba-4f55-e195-2260ae176bb7"
      },
      "source": [
        "questions = pd.concat([df_train[['question1', 'question2']], df_test[['question1', 'question2']]], axis=0).reset_index(drop='index')\n",
        "q_dict = defaultdict(set)\n",
        "for i in range(questions.shape[0]):\n",
        "        q_dict[questions.question1[i]].add(questions.question2[i])\n",
        "        q_dict[questions.question2[i]].add(questions.question1[i])\n",
        "\n",
        "def q1_freq_train(row):\n",
        "    return len(q_dict.get(row[3]))\n",
        "    # return(len(q_dict[row['question1']]))\n",
        "\n",
        "def q2_freq_train(row):\n",
        "    return len(q_dict.get(row[4]))\n",
        "    # return(len(q_dict[row['question2']]))\n",
        "\n",
        "def q1_q2_intersect_train(row):\n",
        "    return(len(set(q_dict.get(row[3])).intersection(set(q_dict.get(row[4])))))\n",
        "    # return(len(set(q_dict[row['question1']]).intersection(set(q_dict[row['question2']]))))\n",
        "\n",
        "def q1_freq_test(row):\n",
        "    return len(q_dict.get(row[1]))\n",
        "    # return(len(q_dict[row['question1']]))\n",
        "\n",
        "def q2_freq_test(row):\n",
        "    return len(q_dict.get(row[2]))\n",
        "    # return(len(q_dict[row['question2']]))\n",
        "\n",
        "def q1_q2_intersect_test(row):\n",
        "    return(len(set(q_dict.get(row[1])).intersection(set(q_dict.get(row[2])))))\n",
        "    # return(len(set(q_dict[row['question1']]).intersection(set(q_dict[row['question2']]))))\n",
        "\n",
        "df_train['q1_q2_intersect'] = df_train.apply(q1_q2_intersect_train, axis=1, raw=True)\n",
        "df_train['q1_freq'] = df_train.apply(q1_freq_train, axis=1, raw=True)\n",
        "df_train['q2_freq'] = df_train.apply(q2_freq_train, axis=1, raw=True)\n",
        "\n",
        "df_test['q1_q2_intersect'] = df_test.apply(q1_q2_intersect_test, axis=1, raw=True)\n",
        "df_test['q1_freq'] = df_test.apply(q1_freq_test, axis=1, raw=True)\n",
        "df_test['q2_freq'] = df_test.apply(q2_freq_test, axis=1, raw=True)\n",
        "print('Basic features created')"
      ],
      "execution_count": 10,
      "outputs": [
        {
          "output_type": "stream",
          "text": [
            "Basic features created\n"
          ],
          "name": "stdout"
        }
      ]
    },
    {
      "cell_type": "code",
      "metadata": {
        "colab": {
          "base_uri": "https://localhost:8080/",
          "height": 279
        },
        "id": "WV-AVYLxQhzp",
        "outputId": "f962a4ac-ab72-44c6-cd53-c0a6f70a69a4"
      },
      "source": [
        "df_train.head()"
      ],
      "execution_count": 11,
      "outputs": [
        {
          "output_type": "execute_result",
          "data": {
            "text/html": [
              "<div>\n",
              "<style scoped>\n",
              "    .dataframe tbody tr th:only-of-type {\n",
              "        vertical-align: middle;\n",
              "    }\n",
              "\n",
              "    .dataframe tbody tr th {\n",
              "        vertical-align: top;\n",
              "    }\n",
              "\n",
              "    .dataframe thead th {\n",
              "        text-align: right;\n",
              "    }\n",
              "</style>\n",
              "<table border=\"1\" class=\"dataframe\">\n",
              "  <thead>\n",
              "    <tr style=\"text-align: right;\">\n",
              "      <th></th>\n",
              "      <th>id</th>\n",
              "      <th>qid1</th>\n",
              "      <th>qid2</th>\n",
              "      <th>question1</th>\n",
              "      <th>question2</th>\n",
              "      <th>is_duplicate</th>\n",
              "      <th>q1_q2_intersect</th>\n",
              "      <th>q1_freq</th>\n",
              "      <th>q2_freq</th>\n",
              "    </tr>\n",
              "  </thead>\n",
              "  <tbody>\n",
              "    <tr>\n",
              "      <th>0</th>\n",
              "      <td>0</td>\n",
              "      <td>1</td>\n",
              "      <td>2</td>\n",
              "      <td>What is the step by step guide to invest in sh...</td>\n",
              "      <td>What is the step by step guide to invest in sh...</td>\n",
              "      <td>0</td>\n",
              "      <td>0</td>\n",
              "      <td>1</td>\n",
              "      <td>1</td>\n",
              "    </tr>\n",
              "    <tr>\n",
              "      <th>1</th>\n",
              "      <td>1</td>\n",
              "      <td>3</td>\n",
              "      <td>4</td>\n",
              "      <td>What is the story of Kohinoor (Koh-i-Noor) Dia...</td>\n",
              "      <td>What would happen if the Indian government sto...</td>\n",
              "      <td>0</td>\n",
              "      <td>0</td>\n",
              "      <td>4</td>\n",
              "      <td>2</td>\n",
              "    </tr>\n",
              "    <tr>\n",
              "      <th>2</th>\n",
              "      <td>2</td>\n",
              "      <td>5</td>\n",
              "      <td>6</td>\n",
              "      <td>How can I increase the speed of my internet co...</td>\n",
              "      <td>How can Internet speed be increased by hacking...</td>\n",
              "      <td>0</td>\n",
              "      <td>0</td>\n",
              "      <td>1</td>\n",
              "      <td>1</td>\n",
              "    </tr>\n",
              "    <tr>\n",
              "      <th>3</th>\n",
              "      <td>3</td>\n",
              "      <td>7</td>\n",
              "      <td>8</td>\n",
              "      <td>Why am I mentally very lonely? How can I solve...</td>\n",
              "      <td>Find the remainder when [math]23^{24}[/math] i...</td>\n",
              "      <td>0</td>\n",
              "      <td>0</td>\n",
              "      <td>1</td>\n",
              "      <td>1</td>\n",
              "    </tr>\n",
              "    <tr>\n",
              "      <th>4</th>\n",
              "      <td>4</td>\n",
              "      <td>9</td>\n",
              "      <td>10</td>\n",
              "      <td>Which one dissolve in water quikly sugar, salt...</td>\n",
              "      <td>Which fish would survive in salt water?</td>\n",
              "      <td>0</td>\n",
              "      <td>0</td>\n",
              "      <td>3</td>\n",
              "      <td>1</td>\n",
              "    </tr>\n",
              "  </tbody>\n",
              "</table>\n",
              "</div>"
            ],
            "text/plain": [
              "   id  qid1  qid2  ... q1_q2_intersect q1_freq  q2_freq\n",
              "0   0     1     2  ...               0       1        1\n",
              "1   1     3     4  ...               0       4        2\n",
              "2   2     5     6  ...               0       1        1\n",
              "3   3     7     8  ...               0       1        1\n",
              "4   4     9    10  ...               0       3        1\n",
              "\n",
              "[5 rows x 9 columns]"
            ]
          },
          "metadata": {
            "tags": []
          },
          "execution_count": 11
        }
      ]
    },
    {
      "cell_type": "code",
      "metadata": {
        "colab": {
          "base_uri": "https://localhost:8080/",
          "height": 195
        },
        "id": "uYnrWihsQ4ER",
        "outputId": "8cc75c93-c615-4a1a-951c-85b94303f0b6"
      },
      "source": [
        "df_test.head()"
      ],
      "execution_count": 12,
      "outputs": [
        {
          "output_type": "execute_result",
          "data": {
            "text/html": [
              "<div>\n",
              "<style scoped>\n",
              "    .dataframe tbody tr th:only-of-type {\n",
              "        vertical-align: middle;\n",
              "    }\n",
              "\n",
              "    .dataframe tbody tr th {\n",
              "        vertical-align: top;\n",
              "    }\n",
              "\n",
              "    .dataframe thead th {\n",
              "        text-align: right;\n",
              "    }\n",
              "</style>\n",
              "<table border=\"1\" class=\"dataframe\">\n",
              "  <thead>\n",
              "    <tr style=\"text-align: right;\">\n",
              "      <th></th>\n",
              "      <th>test_id</th>\n",
              "      <th>question1</th>\n",
              "      <th>question2</th>\n",
              "      <th>q1_q2_intersect</th>\n",
              "      <th>q1_freq</th>\n",
              "      <th>q2_freq</th>\n",
              "    </tr>\n",
              "  </thead>\n",
              "  <tbody>\n",
              "    <tr>\n",
              "      <th>0</th>\n",
              "      <td>0</td>\n",
              "      <td>How does the Surface Pro himself 4 compare wit...</td>\n",
              "      <td>Why did Microsoft choose core m3 and not core ...</td>\n",
              "      <td>0</td>\n",
              "      <td>1</td>\n",
              "      <td>1</td>\n",
              "    </tr>\n",
              "    <tr>\n",
              "      <th>1</th>\n",
              "      <td>1</td>\n",
              "      <td>Should I have a hair transplant at age 24? How...</td>\n",
              "      <td>How much cost does hair transplant require?</td>\n",
              "      <td>0</td>\n",
              "      <td>1</td>\n",
              "      <td>1</td>\n",
              "    </tr>\n",
              "    <tr>\n",
              "      <th>2</th>\n",
              "      <td>2</td>\n",
              "      <td>What but is the best way to send money from Ch...</td>\n",
              "      <td>What you send money to China?</td>\n",
              "      <td>0</td>\n",
              "      <td>1</td>\n",
              "      <td>1</td>\n",
              "    </tr>\n",
              "    <tr>\n",
              "      <th>3</th>\n",
              "      <td>3</td>\n",
              "      <td>Which food not emulsifiers?</td>\n",
              "      <td>What foods fibre?</td>\n",
              "      <td>0</td>\n",
              "      <td>1</td>\n",
              "      <td>1</td>\n",
              "    </tr>\n",
              "    <tr>\n",
              "      <th>4</th>\n",
              "      <td>4</td>\n",
              "      <td>How \"aberystwyth\" start reading?</td>\n",
              "      <td>How their can I start reading?</td>\n",
              "      <td>0</td>\n",
              "      <td>1</td>\n",
              "      <td>1</td>\n",
              "    </tr>\n",
              "  </tbody>\n",
              "</table>\n",
              "</div>"
            ],
            "text/plain": [
              "   test_id                                          question1  ... q1_freq  q2_freq\n",
              "0        0  How does the Surface Pro himself 4 compare wit...  ...       1        1\n",
              "1        1  Should I have a hair transplant at age 24? How...  ...       1        1\n",
              "2        2  What but is the best way to send money from Ch...  ...       1        1\n",
              "3        3                        Which food not emulsifiers?  ...       1        1\n",
              "4        4                   How \"aberystwyth\" start reading?  ...       1        1\n",
              "\n",
              "[5 rows x 6 columns]"
            ]
          },
          "metadata": {
            "tags": []
          },
          "execution_count": 12
        }
      ]
    },
    {
      "cell_type": "code",
      "metadata": {
        "colab": {
          "base_uri": "https://localhost:8080/"
        },
        "id": "HYEVTvoGNXmf",
        "outputId": "118b3c26-e682-4667-b157-70ec9e78684e"
      },
      "source": [
        "# Load features from previous work on feature_tm and feature_nlp\n",
        "import pandas as pd\n",
        "\n",
        "df_feature = pd.read_csv('/content/drive/MyDrive/Project/feature_tm+nlp_new.csv')\n",
        "df_feature = df_feature.fillna(0)\n",
        "df_feature_test = pd.read_csv('/content/drive/MyDrive/Project/feature_tm+nlp_new_test_new.csv')\n",
        "print('Features(nlp&tm) Loaded')\n",
        "\n",
        "df_train['id'] = df_feature['id']\n",
        "df_test['test_id'] = df_feature_test['test_id']\n",
        "\n",
        "df_train = df_train.merge(df_feature,on='id',how='left')\n",
        "leak = df_train.drop(['id','qid1','qid2','question1','question2','is_duplicate'], axis=1)\n",
        "df_test = df_test.merge(df_feature_test,on='test_id',how='left')\n",
        "test_leak = df_test.drop(['test_id','question1','question2'], axis=1)\n",
        "print('Final features created')"
      ],
      "execution_count": 13,
      "outputs": [
        {
          "output_type": "stream",
          "text": [
            "Features(nlp&tm) Loaded\n",
            "Final features created\n"
          ],
          "name": "stdout"
        }
      ]
    },
    {
      "cell_type": "code",
      "metadata": {
        "id": "9NQBGTO5O3aL"
      },
      "source": [
        ""
      ],
      "execution_count": null,
      "outputs": []
    },
    {
      "cell_type": "code",
      "metadata": {
        "colab": {
          "base_uri": "https://localhost:8080/",
          "height": 215
        },
        "id": "WFk1ysxiOK2L",
        "outputId": "d43511b6-3cb5-4b23-ea59-b4c100bdea83"
      },
      "source": [
        "leak.head()"
      ],
      "execution_count": 14,
      "outputs": [
        {
          "output_type": "execute_result",
          "data": {
            "text/html": [
              "<div>\n",
              "<style scoped>\n",
              "    .dataframe tbody tr th:only-of-type {\n",
              "        vertical-align: middle;\n",
              "    }\n",
              "\n",
              "    .dataframe tbody tr th {\n",
              "        vertical-align: top;\n",
              "    }\n",
              "\n",
              "    .dataframe thead th {\n",
              "        text-align: right;\n",
              "    }\n",
              "</style>\n",
              "<table border=\"1\" class=\"dataframe\">\n",
              "  <thead>\n",
              "    <tr style=\"text-align: right;\">\n",
              "      <th></th>\n",
              "      <th>q1_q2_intersect</th>\n",
              "      <th>q1_freq</th>\n",
              "      <th>q2_freq</th>\n",
              "      <th>q1len</th>\n",
              "      <th>q2len</th>\n",
              "      <th>diff_len</th>\n",
              "      <th>len_word_q1</th>\n",
              "      <th>len_word_q2</th>\n",
              "      <th>diff_words</th>\n",
              "      <th>caps_count_q1</th>\n",
              "      <th>caps_count_q2</th>\n",
              "      <th>diff_caps</th>\n",
              "      <th>len_char_q1</th>\n",
              "      <th>len_char_q2</th>\n",
              "      <th>diff_len_char</th>\n",
              "      <th>avg_world_len1</th>\n",
              "      <th>avg_world_len2</th>\n",
              "      <th>diff_avg_word</th>\n",
              "      <th>word_Common</th>\n",
              "      <th>word_Total</th>\n",
              "      <th>word_share</th>\n",
              "      <th>share_2_gram</th>\n",
              "      <th>cwc_min</th>\n",
              "      <th>cwc_max</th>\n",
              "      <th>csc_min</th>\n",
              "      <th>csc_max</th>\n",
              "      <th>ctc_min</th>\n",
              "      <th>ctc_max</th>\n",
              "      <th>last_word_eq</th>\n",
              "      <th>first_word_eq</th>\n",
              "      <th>abs_len_diff</th>\n",
              "      <th>mean_len</th>\n",
              "      <th>token_set_ratio</th>\n",
              "      <th>token_sort_ratio</th>\n",
              "      <th>fuzz_ratio</th>\n",
              "      <th>fuzz_partial_ratio</th>\n",
              "      <th>longest_substr_ratio</th>\n",
              "      <th>word_mover_dist</th>\n",
              "      <th>cosine_dist</th>\n",
              "      <th>cityblock_dist</th>\n",
              "      <th>canberra_dist</th>\n",
              "      <th>euclidean_dist</th>\n",
              "      <th>minkowski_dist</th>\n",
              "    </tr>\n",
              "  </thead>\n",
              "  <tbody>\n",
              "    <tr>\n",
              "      <th>0</th>\n",
              "      <td>0</td>\n",
              "      <td>1</td>\n",
              "      <td>1</td>\n",
              "      <td>66</td>\n",
              "      <td>57</td>\n",
              "      <td>9</td>\n",
              "      <td>14</td>\n",
              "      <td>12</td>\n",
              "      <td>2</td>\n",
              "      <td>1</td>\n",
              "      <td>1</td>\n",
              "      <td>0</td>\n",
              "      <td>53</td>\n",
              "      <td>46</td>\n",
              "      <td>7</td>\n",
              "      <td>3.785714</td>\n",
              "      <td>3.833333</td>\n",
              "      <td>-0.047619</td>\n",
              "      <td>10</td>\n",
              "      <td>23</td>\n",
              "      <td>0.434783</td>\n",
              "      <td>0.416667</td>\n",
              "      <td>0.999980</td>\n",
              "      <td>0.833319</td>\n",
              "      <td>0.999983</td>\n",
              "      <td>0.999983</td>\n",
              "      <td>0.916659</td>\n",
              "      <td>0.785709</td>\n",
              "      <td>0</td>\n",
              "      <td>1</td>\n",
              "      <td>2</td>\n",
              "      <td>13.0</td>\n",
              "      <td>100</td>\n",
              "      <td>93</td>\n",
              "      <td>93</td>\n",
              "      <td>100</td>\n",
              "      <td>0.982759</td>\n",
              "      <td>1.216034</td>\n",
              "      <td>0.031762</td>\n",
              "      <td>14.274065</td>\n",
              "      <td>91.483062</td>\n",
              "      <td>1.047253</td>\n",
              "      <td>1.047253</td>\n",
              "    </tr>\n",
              "    <tr>\n",
              "      <th>1</th>\n",
              "      <td>0</td>\n",
              "      <td>4</td>\n",
              "      <td>2</td>\n",
              "      <td>51</td>\n",
              "      <td>88</td>\n",
              "      <td>-37</td>\n",
              "      <td>8</td>\n",
              "      <td>13</td>\n",
              "      <td>-5</td>\n",
              "      <td>5</td>\n",
              "      <td>5</td>\n",
              "      <td>0</td>\n",
              "      <td>44</td>\n",
              "      <td>76</td>\n",
              "      <td>-32</td>\n",
              "      <td>5.500000</td>\n",
              "      <td>5.846154</td>\n",
              "      <td>-0.346154</td>\n",
              "      <td>4</td>\n",
              "      <td>20</td>\n",
              "      <td>0.200000</td>\n",
              "      <td>0.052632</td>\n",
              "      <td>0.799984</td>\n",
              "      <td>0.399996</td>\n",
              "      <td>0.749981</td>\n",
              "      <td>0.599988</td>\n",
              "      <td>0.699993</td>\n",
              "      <td>0.466664</td>\n",
              "      <td>0</td>\n",
              "      <td>1</td>\n",
              "      <td>5</td>\n",
              "      <td>12.5</td>\n",
              "      <td>86</td>\n",
              "      <td>63</td>\n",
              "      <td>66</td>\n",
              "      <td>75</td>\n",
              "      <td>0.596154</td>\n",
              "      <td>4.897662</td>\n",
              "      <td>0.266555</td>\n",
              "      <td>33.272633</td>\n",
              "      <td>149.670092</td>\n",
              "      <td>2.624989</td>\n",
              "      <td>2.624989</td>\n",
              "    </tr>\n",
              "    <tr>\n",
              "      <th>2</th>\n",
              "      <td>0</td>\n",
              "      <td>1</td>\n",
              "      <td>1</td>\n",
              "      <td>73</td>\n",
              "      <td>59</td>\n",
              "      <td>14</td>\n",
              "      <td>14</td>\n",
              "      <td>10</td>\n",
              "      <td>4</td>\n",
              "      <td>5</td>\n",
              "      <td>5</td>\n",
              "      <td>0</td>\n",
              "      <td>60</td>\n",
              "      <td>50</td>\n",
              "      <td>10</td>\n",
              "      <td>4.285714</td>\n",
              "      <td>5.000000</td>\n",
              "      <td>-0.714286</td>\n",
              "      <td>4</td>\n",
              "      <td>24</td>\n",
              "      <td>0.166667</td>\n",
              "      <td>0.045455</td>\n",
              "      <td>0.399992</td>\n",
              "      <td>0.333328</td>\n",
              "      <td>0.399992</td>\n",
              "      <td>0.249997</td>\n",
              "      <td>0.399996</td>\n",
              "      <td>0.285712</td>\n",
              "      <td>0</td>\n",
              "      <td>1</td>\n",
              "      <td>4</td>\n",
              "      <td>12.0</td>\n",
              "      <td>63</td>\n",
              "      <td>63</td>\n",
              "      <td>43</td>\n",
              "      <td>47</td>\n",
              "      <td>0.166667</td>\n",
              "      <td>4.011556</td>\n",
              "      <td>0.118900</td>\n",
              "      <td>28.457512</td>\n",
              "      <td>129.214660</td>\n",
              "      <td>2.140298</td>\n",
              "      <td>2.140298</td>\n",
              "    </tr>\n",
              "    <tr>\n",
              "      <th>3</th>\n",
              "      <td>0</td>\n",
              "      <td>1</td>\n",
              "      <td>1</td>\n",
              "      <td>50</td>\n",
              "      <td>65</td>\n",
              "      <td>-15</td>\n",
              "      <td>11</td>\n",
              "      <td>9</td>\n",
              "      <td>2</td>\n",
              "      <td>4</td>\n",
              "      <td>1</td>\n",
              "      <td>3</td>\n",
              "      <td>40</td>\n",
              "      <td>57</td>\n",
              "      <td>-17</td>\n",
              "      <td>3.636364</td>\n",
              "      <td>6.333333</td>\n",
              "      <td>-2.696970</td>\n",
              "      <td>0</td>\n",
              "      <td>19</td>\n",
              "      <td>0.000000</td>\n",
              "      <td>0.000000</td>\n",
              "      <td>0.000000</td>\n",
              "      <td>0.000000</td>\n",
              "      <td>0.000000</td>\n",
              "      <td>0.000000</td>\n",
              "      <td>0.000000</td>\n",
              "      <td>0.000000</td>\n",
              "      <td>0</td>\n",
              "      <td>0</td>\n",
              "      <td>2</td>\n",
              "      <td>12.0</td>\n",
              "      <td>28</td>\n",
              "      <td>24</td>\n",
              "      <td>9</td>\n",
              "      <td>14</td>\n",
              "      <td>0.039216</td>\n",
              "      <td>7.514702</td>\n",
              "      <td>0.619671</td>\n",
              "      <td>62.016426</td>\n",
              "      <td>200.899534</td>\n",
              "      <td>4.702347</td>\n",
              "      <td>4.702347</td>\n",
              "    </tr>\n",
              "    <tr>\n",
              "      <th>4</th>\n",
              "      <td>0</td>\n",
              "      <td>3</td>\n",
              "      <td>1</td>\n",
              "      <td>76</td>\n",
              "      <td>39</td>\n",
              "      <td>37</td>\n",
              "      <td>13</td>\n",
              "      <td>7</td>\n",
              "      <td>6</td>\n",
              "      <td>1</td>\n",
              "      <td>1</td>\n",
              "      <td>0</td>\n",
              "      <td>64</td>\n",
              "      <td>33</td>\n",
              "      <td>31</td>\n",
              "      <td>4.923077</td>\n",
              "      <td>4.714286</td>\n",
              "      <td>0.208791</td>\n",
              "      <td>2</td>\n",
              "      <td>20</td>\n",
              "      <td>0.100000</td>\n",
              "      <td>0.000000</td>\n",
              "      <td>0.399992</td>\n",
              "      <td>0.199998</td>\n",
              "      <td>0.999950</td>\n",
              "      <td>0.666644</td>\n",
              "      <td>0.571420</td>\n",
              "      <td>0.307690</td>\n",
              "      <td>0</td>\n",
              "      <td>1</td>\n",
              "      <td>6</td>\n",
              "      <td>10.0</td>\n",
              "      <td>67</td>\n",
              "      <td>47</td>\n",
              "      <td>35</td>\n",
              "      <td>56</td>\n",
              "      <td>0.175000</td>\n",
              "      <td>6.257260</td>\n",
              "      <td>0.244168</td>\n",
              "      <td>40.127296</td>\n",
              "      <td>156.627744</td>\n",
              "      <td>3.145122</td>\n",
              "      <td>3.145122</td>\n",
              "    </tr>\n",
              "  </tbody>\n",
              "</table>\n",
              "</div>"
            ],
            "text/plain": [
              "   q1_q2_intersect  q1_freq  ...  euclidean_dist  minkowski_dist\n",
              "0                0        1  ...        1.047253        1.047253\n",
              "1                0        4  ...        2.624989        2.624989\n",
              "2                0        1  ...        2.140298        2.140298\n",
              "3                0        1  ...        4.702347        4.702347\n",
              "4                0        3  ...        3.145122        3.145122\n",
              "\n",
              "[5 rows x 43 columns]"
            ]
          },
          "metadata": {
            "tags": []
          },
          "execution_count": 14
        }
      ]
    },
    {
      "cell_type": "code",
      "metadata": {
        "id": "SwX6vC3oIPPl",
        "colab": {
          "base_uri": "https://localhost:8080/"
        },
        "outputId": "a587fb30-2b99-460c-c1d4-b7e38f9f9e6f"
      },
      "source": [
        "# Make scaling for leaky feature (normalization)\n",
        "ss = StandardScaler()\n",
        "ss.fit(np.vstack((leak, test_leak)))\n",
        "leaks = ss.transform(leak)  # the leaky feature, array\n",
        "test_leaks = ss.transform(test_leak)  # the leaky feature_test, array\n",
        "print('Normalization finished')\n"
      ],
      "execution_count": 15,
      "outputs": [
        {
          "output_type": "stream",
          "text": [
            "Normalization finished\n"
          ],
          "name": "stdout"
        }
      ]
    },
    {
      "cell_type": "code",
      "metadata": {
        "id": "KNux09MKIPPl",
        "colab": {
          "base_uri": "https://localhost:8080/"
        },
        "outputId": "81636623-abd7-4b03-8dc1-a1785223c899"
      },
      "source": [
        "leaks"
      ],
      "execution_count": 16,
      "outputs": [
        {
          "output_type": "execute_result",
          "data": {
            "text/plain": [
              "array([[-0.33979183, -0.42512516, -0.38468262, ..., -0.88530511,\n",
              "        -1.05063779, -1.05063779],\n",
              "       [-0.33979183,  0.02763175, -0.25824415, ...,  0.32389903,\n",
              "         0.28842448,  0.28842448],\n",
              "       [-0.33979183, -0.42512516, -0.38468262, ..., -0.10119215,\n",
              "        -0.12294467, -0.12294467],\n",
              "       ...,\n",
              "       [-0.33979183, -0.42512516, -0.38468262, ..., -0.19937166,\n",
              "         0.94580181,  0.94580181],\n",
              "       [-0.33979183, -0.42512516, -0.38468262, ...,  1.76573718,\n",
              "         1.2350309 ,  1.2350309 ],\n",
              "       [-0.33979183, -0.42512516, -0.38468262, ..., -2.78644519,\n",
              "        -1.93946726, -1.93946726]])"
            ]
          },
          "metadata": {
            "tags": []
          },
          "execution_count": 16
        }
      ]
    },
    {
      "cell_type": "code",
      "metadata": {
        "id": "pINMKwD7IPPm"
      },
      "source": [
        "# Train & Validation split\n",
        "perm = np.random.permutation(len(train_texts_1))\n",
        "idx_train = perm[:int(len(train_texts_1)*(1-VALIDATION_SPLIT_RATE))]\n",
        "idx_val = perm[int(len(train_texts_1)*(1-VALIDATION_SPLIT_RATE)):]\n",
        "\n",
        "data_1_train = np.vstack((train_texts_1[idx_train], train_texts_2[idx_train]))\n",
        "data_2_train = np.vstack((train_texts_2[idx_train], train_texts_1[idx_train]))\n",
        "leaks_train = np.vstack((leaks[idx_train], leaks[idx_train]))\n",
        "labels_train = np.concatenate((train_labels[idx_train], train_labels[idx_train]))\n",
        "\n",
        "data_1_val = np.vstack((train_texts_1[idx_val], train_texts_2[idx_val]))\n",
        "data_2_val = np.vstack((train_texts_2[idx_val], train_texts_1[idx_val]))\n",
        "leaks_val = np.vstack((leaks[idx_val], leaks[idx_val]))\n",
        "labels_val = np.concatenate((train_labels[idx_val], train_labels[idx_val]))\n",
        "\n",
        "weight_val = np.ones(len(labels_val))\n",
        "if re_weight:\n",
        "    weight_val *= 0.471544715\n",
        "    weight_val[labels_val==0] = 1.309033281\n"
      ],
      "execution_count": 17,
      "outputs": []
    },
    {
      "cell_type": "code",
      "metadata": {
        "id": "vW2V1FU9IPPm",
        "colab": {
          "base_uri": "https://localhost:8080/"
        },
        "outputId": "644177a8-8324-40dc-a472-ceac4a221deb"
      },
      "source": [
        "# Create embedding matrix for embedding layer, which is used in the keras.embedding weight as the initializer.\n",
        "from keras.layers import Bidirectional\n",
        "print('Preparing embedding matrix')\n",
        "\n",
        "num_words = min(MAX_NUM_WORDS, len(word_index))+1\n",
        "\n",
        "embedding_matrix = np.zeros((num_words, EMBEDDING_DIM))  # the weight of Embedding layer\n",
        "for word, i in word_index.items():\n",
        "    embedding_vector = embeddings_index.get(word)\n",
        "    if embedding_vector is not None:\n",
        "        embedding_matrix[i] = embedding_vector\n",
        "print('Null word embeddings: '.format(np.sum(np.sum(embedding_matrix, axis=1) == 0)))\n",
        "\n",
        "\n",
        "# NN Model design\n",
        "# Structure: (q1-embedding-lstm + q2-embedding-lstm + leaky-dense)-dense-sigmoid-result\n",
        "\n",
        "# The embedding layer containing the word vectors\n",
        "emb_layer = Embedding(\n",
        "    input_dim=num_words,\n",
        "    output_dim=EMBEDDING_DIM,\n",
        "    weights=[embedding_matrix],\n",
        "    input_length=MAX_SEQUENCE_LENGTH,\n",
        "    trainable=False\n",
        ")    \n",
        "\n",
        "# LSTM layer\n",
        "# adding bidirectional does help to the performance, it achieves the best score which is 0.16515\n",
        "lstm_layer = Bidirectional(LSTM(N_HIDDEN, dropout=DROPOUT_RATE_LSTM, recurrent_dropout=DROPOUT_RATE_LSTM))\n",
        "#lstm_layer = LSTM(N_HIDDEN, dropout=DROPOUT_RATE_LSTM, recurrent_dropout=DROPOUT_RATE_LSTM)\n",
        "\n",
        "# Define inputs\n",
        "seq1 = Input(shape=(MAX_SEQUENCE_LENGTH,), dtype='int32')\n",
        "seq2 = Input(shape=(MAX_SEQUENCE_LENGTH,), dtype='int32')\n",
        "\n",
        "# Run inputs through embedding\n",
        "emb1 = emb_layer(seq1)\n",
        "emb2 = emb_layer(seq2)\n",
        "\n",
        "cnn_a = Conv1D(filters=32, kernel_size=8,activation='relu')(emb1)\n",
        "cnn_b = Conv1D(filters=32, kernel_size=8,activation='relu')(emb2)\n",
        "\n",
        "# Run through LSTM layers\n",
        "lstm_a = lstm_layer(cnn_a)\n",
        "# glob1a = GlobalAveragePooling1D()(lstm_a)\n",
        "lstm_b = lstm_layer(cnn_b)\n",
        "# glob1b = GlobalAveragePooling1D()(lstm_b)\n",
        "\n",
        "magic_input = Input(shape=(leaks.shape[1],))\n",
        "# magic_dense = BatchNormalization()(magic_input)\n",
        "magic_dense = Dense(int(N_DENSE), activation=ACTIVE_FUNC)(magic_input)  # change N_DENSE/2 to N_DENSE because of the addition of leaky features\n",
        "\n",
        "merged = concatenate([lstm_a, lstm_b, magic_dense])\n",
        "merged = BatchNormalization()(merged)\n",
        "merged = Dropout(DROUPOUT_RATE_DENSE)(merged)\n",
        "\n",
        "merged = Dense(N_DENSE, activation=ACTIVE_FUNC)(merged)\n",
        "merged = BatchNormalization()(merged)\n",
        "merged = Dropout(DROUPOUT_RATE_DENSE)(merged)\n",
        "\n",
        "preds = Dense(1, activation='sigmoid')(merged)\n",
        "\n",
        "\n",
        "# Add class weight, magic feature for the unbalancement of training labels.\n",
        "if re_weight:\n",
        "    class_weight = {0: 1.309033281, 1: 0.471544715}\n",
        "else:\n",
        "    class_weight = None\n",
        "    \n",
        "\n",
        "# Train the model\n",
        "\n",
        "print('Starting the model training')\n",
        "\n",
        "model = Model(inputs=[seq1, seq2, magic_input], outputs=preds)\n",
        "model.compile(loss='binary_crossentropy', optimizer='nadam', metrics=['acc'])\n",
        "\n",
        "# Summerization of model\n",
        "model.summary()\n",
        "\n",
        "\n"
      ],
      "execution_count": 31,
      "outputs": [
        {
          "output_type": "stream",
          "text": [
            "Preparing embedding matrix\n",
            "Null word embeddings: \n",
            "WARNING:tensorflow:Layer lstm_3 will not use cuDNN kernel since it doesn't meet the cuDNN kernel criteria. It will use generic GPU kernel as fallback when running on GPU\n",
            "WARNING:tensorflow:Layer lstm_3 will not use cuDNN kernel since it doesn't meet the cuDNN kernel criteria. It will use generic GPU kernel as fallback when running on GPU\n",
            "WARNING:tensorflow:Layer lstm_3 will not use cuDNN kernel since it doesn't meet the cuDNN kernel criteria. It will use generic GPU kernel as fallback when running on GPU\n",
            "Starting the model training\n",
            "Model: \"model_3\"\n",
            "__________________________________________________________________________________________________\n",
            "Layer (type)                    Output Shape         Param #     Connected to                     \n",
            "==================================================================================================\n",
            "input_10 (InputLayer)           [(None, 60)]         0                                            \n",
            "__________________________________________________________________________________________________\n",
            "input_11 (InputLayer)           [(None, 60)]         0                                            \n",
            "__________________________________________________________________________________________________\n",
            "embedding_3 (Embedding)         (None, 60, 300)      25671300    input_10[0][0]                   \n",
            "                                                                 input_11[0][0]                   \n",
            "__________________________________________________________________________________________________\n",
            "conv1d_6 (Conv1D)               (None, 53, 32)       76832       embedding_3[0][0]                \n",
            "__________________________________________________________________________________________________\n",
            "conv1d_7 (Conv1D)               (None, 53, 32)       76832       embedding_3[1][0]                \n",
            "__________________________________________________________________________________________________\n",
            "input_12 (InputLayer)           [(None, 43)]         0                                            \n",
            "__________________________________________________________________________________________________\n",
            "bidirectional_2 (Bidirectional) (None, 378)          335664      conv1d_6[0][0]                   \n",
            "                                                                 conv1d_7[0][0]                   \n",
            "__________________________________________________________________________________________________\n",
            "dense_9 (Dense)                 (None, 137)          6028        input_12[0][0]                   \n",
            "__________________________________________________________________________________________________\n",
            "concatenate_3 (Concatenate)     (None, 893)          0           bidirectional_2[0][0]            \n",
            "                                                                 bidirectional_2[1][0]            \n",
            "                                                                 dense_9[0][0]                    \n",
            "__________________________________________________________________________________________________\n",
            "batch_normalization_6 (BatchNor (None, 893)          3572        concatenate_3[0][0]              \n",
            "__________________________________________________________________________________________________\n",
            "dropout_6 (Dropout)             (None, 893)          0           batch_normalization_6[0][0]      \n",
            "__________________________________________________________________________________________________\n",
            "dense_10 (Dense)                (None, 137)          122478      dropout_6[0][0]                  \n",
            "__________________________________________________________________________________________________\n",
            "batch_normalization_7 (BatchNor (None, 137)          548         dense_10[0][0]                   \n",
            "__________________________________________________________________________________________________\n",
            "dropout_7 (Dropout)             (None, 137)          0           batch_normalization_7[0][0]      \n",
            "__________________________________________________________________________________________________\n",
            "dense_11 (Dense)                (None, 1)            138         dropout_7[0][0]                  \n",
            "==================================================================================================\n",
            "Total params: 26,293,392\n",
            "Trainable params: 620,032\n",
            "Non-trainable params: 25,673,360\n",
            "__________________________________________________________________________________________________\n"
          ],
          "name": "stdout"
        }
      ]
    },
    {
      "cell_type": "code",
      "metadata": {
        "colab": {
          "base_uri": "https://localhost:8080/",
          "height": 1000
        },
        "id": "KZcuW7D9cDmB",
        "outputId": "aab269f6-e831-49f5-b067-62a9f286a88e"
      },
      "source": [
        "from keras.utils.vis_utils import plot_model\n",
        "plot_model(model, to_file='model_plot.png', show_shapes=True, show_layer_names=True)"
      ],
      "execution_count": 21,
      "outputs": [
        {
          "output_type": "execute_result",
          "data": {
            "image/png": "[encoded data removed]",
            "text/plain": [
              "<IPython.core.display.Image object>"
            ]
          },
          "metadata": {
            "tags": []
          },
          "execution_count": 21
        }
      ]
    },
    {
      "cell_type": "code",
      "metadata": {
        "colab": {
          "base_uri": "https://localhost:8080/"
        },
        "id": "OM_-PWIHWA7E",
        "outputId": "0b57789f-7cbe-4797-949f-a67d31f3513b"
      },
      "source": [
        "\n",
        "# Set early stopping (large patience should be useful)\n",
        "early_stopping =EarlyStopping(monitor='val_loss', patience=10)\n",
        "bst_model_path = '/content/drive/MyDrive/Project/lstm_featured.h5' \n",
        "model_checkpoint = ModelCheckpoint(bst_model_path, save_best_only=True, save_weights_only=True)\n",
        "\n",
        "\n",
        "hist = model.fit([data_1_train, data_2_train, leaks_train], labels_train, \\\n",
        "        validation_data=([data_1_val, data_2_val, leaks_val], labels_val, weight_val), \\\n",
        "        epochs=2, batch_size=2048, shuffle=True, \\\n",
        "        class_weight=class_weight, callbacks=[early_stopping, model_checkpoint])\n",
        "\n",
        "model.load_weights(bst_model_path) # sotre model parameters in .h5 file\n",
        "bst_val_score = min(hist.history['val_loss'])"
      ],
      "execution_count": 22,
      "outputs": [
        {
          "output_type": "stream",
          "text": [
            "Epoch 1/2\n",
            "356/356 [==============================] - 397s 992ms/step - loss: 0.3175 - acc: 0.8063 - val_loss: 0.2001 - val_acc: 0.8644\n",
            "Epoch 2/2\n",
            "356/356 [==============================] - 347s 975ms/step - loss: 0.1814 - acc: 0.8699 - val_loss: 0.1718 - val_acc: 0.8753\n"
          ],
          "name": "stdout"
        }
      ]
    },
    {
      "cell_type": "code",
      "metadata": {
        "colab": {
          "base_uri": "https://localhost:8080/"
        },
        "id": "1xHQreNsf_CO",
        "outputId": "7bdd8597-38dc-48bf-94c6-657b2369dc6d"
      },
      "source": [
        "\n",
        "# Set early stopping (large patience should be useful)\n",
        "early_stopping =EarlyStopping(monitor='val_loss', patience=10)\n",
        "bst_model_path = '/content/drive/MyDrive/Project/lstm_featured_new.h5' \n",
        "model_checkpoint = ModelCheckpoint(bst_model_path, save_best_only=True, save_weights_only=True)\n",
        "\n",
        "\n",
        "history = model.fit([data_1_train, data_2_train, leaks_train], labels_train, \\\n",
        "        validation_data=([data_1_val, data_2_val, leaks_val], labels_val, weight_val), \\\n",
        "        epochs=4, batch_size=2048, shuffle=True, \\\n",
        "        class_weight=class_weight, callbacks=[early_stopping, model_checkpoint])\n",
        "\n",
        "model.load_weights(bst_model_path) # sotre model parameters in .h5 file\n",
        "bst_val_score = min(history.history['val_loss'])"
      ],
      "execution_count": 28,
      "outputs": [
        {
          "output_type": "stream",
          "text": [
            "Epoch 1/4\n",
            "356/356 [==============================] - 360s 980ms/step - loss: 0.3051 - acc: 0.8098 - val_loss: 0.1942 - val_acc: 0.8433\n",
            "Epoch 2/4\n",
            "356/356 [==============================] - 339s 952ms/step - loss: 0.1811 - acc: 0.8697 - val_loss: 0.1723 - val_acc: 0.8792\n",
            "Epoch 3/4\n",
            "356/356 [==============================] - 336s 944ms/step - loss: 0.1674 - acc: 0.8797 - val_loss: 0.1879 - val_acc: 0.8452\n",
            "Epoch 4/4\n",
            "356/356 [==============================] - 333s 936ms/step - loss: 0.1587 - acc: 0.8854 - val_loss: 0.1945 - val_acc: 0.8524\n"
          ],
          "name": "stdout"
        }
      ]
    },
    {
      "cell_type": "code",
      "metadata": {
        "id": "mQQanOXxfeTR"
      },
      "source": [
        "import matplotlib.pyplot as plt"
      ],
      "execution_count": 23,
      "outputs": []
    },
    {
      "cell_type": "code",
      "metadata": {
        "colab": {
          "base_uri": "https://localhost:8080/",
          "height": 295
        },
        "id": "_G2tGGxjfj63",
        "outputId": "e6643048-0ccf-4393-a112-a40837063757"
      },
      "source": [
        "plt.plot(hist.history['acc'])\n",
        "plt.plot(hist.history['val_acc'])\n",
        "plt.plot(history.history['acc'])\n",
        "plt.plot(history.history['val_acc'])\n",
        "plt.title('model accuracy')\n",
        "plt.ylabel('accuracy')\n",
        "plt.xlabel('epoch')\n",
        "plt.legend(['train_1', 'test_1','train_2', 'test_2'], loc='upper left')\n",
        "plt.show()"
      ],
      "execution_count": 29,
      "outputs": [
        {
          "output_type": "display_data",
          "data": {
            "image/png": "[encoded data removed]",
            "text/plain": [
              "<Figure size 432x288 with 1 Axes>"
            ]
          },
          "metadata": {
            "tags": [],
            "needs_background": "light"
          }
        }
      ]
    },
    {
      "cell_type": "code",
      "metadata": {
        "colab": {
          "base_uri": "https://localhost:8080/",
          "height": 295
        },
        "id": "CCuAmyLafmo2",
        "outputId": "b2bce8bc-a638-4052-9e94-fd4e78b734c0"
      },
      "source": [
        "plt.plot(hist.history['loss'])\n",
        "plt.plot(hist.history['val_loss'])\n",
        "plt.plot(history.history['loss'])\n",
        "plt.plot(history.history['val_loss'])\n",
        "plt.title('model loss')\n",
        "plt.ylabel('loss')\n",
        "plt.xlabel('epoch')\n",
        "plt.legend(['train_1', 'test_1','train_2', 'test_2'], loc='upper left')\n",
        "plt.show()"
      ],
      "execution_count": 30,
      "outputs": [
        {
          "output_type": "display_data",
          "data": {
            "image/png": "[encoded data removed]",
            "text/plain": [
              "<Figure size 432x288 with 1 Axes>"
            ]
          },
          "metadata": {
            "tags": [],
            "needs_background": "light"
          }
        }
      ]
    },
    {
      "cell_type": "code",
      "metadata": {
        "id": "hSyX9SvkmUmn"
      },
      "source": [
        "bst_model_path = '/content/drive/MyDrive/Project/lstm_featured.h5'\n",
        "model.load_weights(bst_model_path) # sotre model parameters in .h5 file"
      ],
      "execution_count": 32,
      "outputs": []
    },
    {
      "cell_type": "code",
      "metadata": {
        "id": "VTQhkt9kIPPm",
        "colab": {
          "base_uri": "https://localhost:8080/"
        },
        "outputId": "4c8c730c-ffa2-4a3c-f0cb-015e09c10771"
      },
      "source": [
        "# Make the submission\n",
        "\n",
        "print('Making the submission')\n",
        "\n",
        "preds = model.predict([test_texts_1, test_texts_2, test_leaks], batch_size=8192, verbose=1)\n",
        "preds += model.predict([test_texts_2, test_texts_1, test_leaks], batch_size=8192, verbose=1)\n",
        "preds /= 2\n",
        "\n",
        "submission = pd.DataFrame({'test_id':test_ids, 'is_duplicate':preds.ravel()})\n",
        "submission.to_csv('/content/drive/MyDrive/Project/lstm_featured_predicted.csv', index=False)"
      ],
      "execution_count": 35,
      "outputs": [
        {
          "output_type": "stream",
          "text": [
            "Making the submission\n",
            "1/1 [==============================] - 0s 113ms/step\n",
            "1/1 [==============================] - 0s 102ms/step\n"
          ],
          "name": "stdout"
        }
      ]
    },
    {
      "cell_type": "markdown",
      "metadata": {
        "id": "DQwlzRgoIPPn"
      },
      "source": [
        "# Comparison Experiments\n",
        "- Network Sturcutres \n",
        "  - We also changed the neural network structure to see if there is an improvement on the final score\n",
        "    - Here the baseline is the `lstm_featured.ipynb`, which scores 0.16515\n",
        "    - Add substract and multiply on **featured_lstm** feature\n",
        "      - Scored 0.16674, no obvious improvements\n",
        "    - Change N_DENSE to N_DENSE/2\n",
        "      - Scored 0.16681 while 0.16515 is the baseline\n",
        "    - Add Dense layer after merging features\n",
        "      - Scored 0.1840 while 0.16515 is the baseline\n"
      ]
    },
    {
      "cell_type": "code",
      "metadata": {
        "id": "U0fMC6X4IPPn"
      },
      "source": [
        ""
      ],
      "execution_count": null,
      "outputs": []
    }
  ]
}